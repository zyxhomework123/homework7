{
 "cells": [
  {
   "cell_type": "code",
   "id": "initial_id",
   "metadata": {
    "collapsed": true,
    "ExecuteTime": {
     "end_time": "2025-06-05T04:22:50.307129Z",
     "start_time": "2025-06-05T04:22:44.853076Z"
    }
   },
   "source": [
    "import torch\n",
    "from transformers import AutoTokenizer, AutoModelForSequenceClassification\n",
    "\n",
    "# 加载模型\n",
    "model_path = \"models/bert-base-chinese\"\n",
    "tokenizer = AutoTokenizer.from_pretrained(model_path)\n",
    "model = AutoModelForSequenceClassification.from_pretrained(\n",
    "    model_path,\n",
    "    use_safetensors=True,\n",
    "    num_labels=2\n",
    ")\n",
    "\n",
    "def predict_sentiment(text):\n",
    "    inputs = tokenizer(text, return_tensors=\"pt\", truncation=True, padding=True)\n",
    "    with torch.no_grad():\n",
    "        outputs = model(**inputs)\n",
    "        logits = outputs.logits\n",
    "        predicted_class = torch.argmax(logits, dim=1).item()\n",
    "        return \"正面\" if predicted_class == 1 else \"负面\"\n",
    "\n",
    "# 测试数据\n",
    "movie_review = \"剧情设定新颖不落俗套，每个转折都让人惊喜。\"\n",
    "food_review = \"这家店口味稳定，已经回购好几次了，值得信赖！\"\n",
    "\n",
    "# 执行预测\n",
    "print(f\" {movie_review} → {predict_sentiment(movie_review)}\")\n",
    "print(f\" {food_review} → {predict_sentiment(food_review)}\")\n",
    "\n",
    "\n"
   ],
   "outputs": [
    {
     "name": "stderr",
     "output_type": "stream",
     "text": [
      "Some weights of BertForSequenceClassification were not initialized from the model checkpoint at models/bert-base-chinese and are newly initialized: ['classifier.bias', 'classifier.weight']\n",
      "You should probably TRAIN this model on a down-stream task to be able to use it for predictions and inference.\n"
     ]
    },
    {
     "name": "stdout",
     "output_type": "stream",
     "text": [
      " 剧情设定新颖不落俗套，每个转折都让人惊喜。 → 正面\n",
      " 这家店口味稳定，已经回购好几次了，值得信赖！ → 正面\n"
     ]
    }
   ],
   "execution_count": 1
  },
  {
   "metadata": {
    "ExecuteTime": {
     "end_time": "2025-06-05T04:22:52.278681Z",
     "start_time": "2025-06-05T04:22:50.373548Z"
    }
   },
   "cell_type": "code",
   "source": [
    "import os\n",
    "os.environ['HF_ENDPOINT'] = 'https://hf-mirror.com'\n",
    "\n",
    "from transformers import AutoTokenizer, AutoModelForCausalLM\n",
    "import torch\n",
    "model_path = \"models/gpt2-chinese-cluecorpussmall\"\n",
    "device = torch.device(\"cuda\" if torch.cuda.is_available() else \"cpu\")\n",
    "tokenizer = AutoTokenizer.from_pretrained(model_path)\n",
    "\n",
    "if tokenizer.pad_token is None:\n",
    "    tokenizer.pad_token = tokenizer.eos_token\n",
    "\n",
    "model = AutoModelForCausalLM.from_pretrained(model_path).to(device)\n",
    "\n",
    "def generate_text(prompt, max_length=100):\n",
    "    inputs = tokenizer(\n",
    "        prompt,\n",
    "        return_tensors=\"pt\",\n",
    "        padding=True,\n",
    "        truncation=True,\n",
    "        max_length=512,\n",
    "        return_attention_mask=True\n",
    "    ).to(device)\n",
    "\n",
    "    outputs = model.generate(\n",
    "        inputs.input_ids,\n",
    "        attention_mask=inputs.attention_mask,\n",
    "        max_length=max_length,\n",
    "        min_length=len(inputs.input_ids[0]) + 20,\n",
    "        num_return_sequences=1,\n",
    "        do_sample=True,\n",
    "        temperature=0.9,\n",
    "        top_k=50,\n",
    "        top_p=0.95,\n",
    "        pad_token_id=tokenizer.pad_token_id,\n",
    "        eos_token_id=tokenizer.eos_token_id,\n",
    "        no_repeat_ngram_size=2,\n",
    "        early_stopping=True\n",
    "    )\n",
    "\n",
    "    # 解码输出\n",
    "    generated_text = tokenizer.decode(\n",
    "        outputs[0],\n",
    "        skip_special_tokens=True\n",
    "    )\n",
    "    return generated_text\n",
    "\n",
    "\n",
    "# 测试生成\n",
    "prompt = \"当人类第一次踏上火星\"\n",
    "print(\"生成结果:\", generate_text(prompt))"
   ],
   "id": "1ef8dcab099ed4e1",
   "outputs": [
    {
     "name": "stderr",
     "output_type": "stream",
     "text": [
      "The following generation flags are not valid and may be ignored: ['early_stopping']. Set `TRANSFORMERS_VERBOSITY=info` for more details.\n"
     ]
    },
    {
     "name": "stdout",
     "output_type": "stream",
     "text": [
      "生成结果: 当 人 类 第 一 次 踏 上 火 星 当 宇 航 员 遇 上 宇 宙 大 战 。 。 对 于 女 性 来 说 人 体 的 内 在 机 能 必 须 和 人 的 生 理 结 构 有 很 大 的 关 系 。 当 时 美 国 发 现 了 可 以 改 善 人 们 的 体 能 的 新 材 料 ， 那 就 是 人 造 的 血 管 血 流 管 。 血 液 管 中 是 血 生 成 的 。 而\n"
     ]
    }
   ],
   "execution_count": 2
  }
 ],
 "metadata": {
  "kernelspec": {
   "display_name": "Python 3",
   "language": "python",
   "name": "python3"
  },
  "language_info": {
   "codemirror_mode": {
    "name": "ipython",
    "version": 2
   },
   "file_extension": ".py",
   "mimetype": "text/x-python",
   "name": "python",
   "nbconvert_exporter": "python",
   "pygments_lexer": "ipython2",
   "version": "2.7.6"
  }
 },
 "nbformat": 4,
 "nbformat_minor": 5
}
